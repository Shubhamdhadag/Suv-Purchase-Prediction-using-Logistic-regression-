{
 "cells": [
  {
   "cell_type": "code",
   "execution_count": 1,
   "id": "7fc8fbd2",
   "metadata": {},
   "outputs": [],
   "source": [
    "import numpy as np\n",
    "import pandas as pd\n",
    "import matplotlib.pyplot as plt"
   ]
  },
  {
   "cell_type": "code",
   "execution_count": 2,
   "id": "72083d77",
   "metadata": {},
   "outputs": [
    {
     "data": {
      "text/html": [
       "<div>\n",
       "<style scoped>\n",
       "    .dataframe tbody tr th:only-of-type {\n",
       "        vertical-align: middle;\n",
       "    }\n",
       "\n",
       "    .dataframe tbody tr th {\n",
       "        vertical-align: top;\n",
       "    }\n",
       "\n",
       "    .dataframe thead th {\n",
       "        text-align: right;\n",
       "    }\n",
       "</style>\n",
       "<table border=\"1\" class=\"dataframe\">\n",
       "  <thead>\n",
       "    <tr style=\"text-align: right;\">\n",
       "      <th></th>\n",
       "      <th>User ID</th>\n",
       "      <th>Gender</th>\n",
       "      <th>Age</th>\n",
       "      <th>EstimatedSalary</th>\n",
       "      <th>Purchased</th>\n",
       "    </tr>\n",
       "  </thead>\n",
       "  <tbody>\n",
       "    <tr>\n",
       "      <th>0</th>\n",
       "      <td>15624510</td>\n",
       "      <td>Male</td>\n",
       "      <td>19</td>\n",
       "      <td>19000</td>\n",
       "      <td>0</td>\n",
       "    </tr>\n",
       "    <tr>\n",
       "      <th>1</th>\n",
       "      <td>15810944</td>\n",
       "      <td>Male</td>\n",
       "      <td>35</td>\n",
       "      <td>20000</td>\n",
       "      <td>0</td>\n",
       "    </tr>\n",
       "    <tr>\n",
       "      <th>2</th>\n",
       "      <td>15668575</td>\n",
       "      <td>Female</td>\n",
       "      <td>26</td>\n",
       "      <td>43000</td>\n",
       "      <td>0</td>\n",
       "    </tr>\n",
       "    <tr>\n",
       "      <th>3</th>\n",
       "      <td>15603246</td>\n",
       "      <td>Female</td>\n",
       "      <td>27</td>\n",
       "      <td>57000</td>\n",
       "      <td>0</td>\n",
       "    </tr>\n",
       "    <tr>\n",
       "      <th>4</th>\n",
       "      <td>15804002</td>\n",
       "      <td>Male</td>\n",
       "      <td>19</td>\n",
       "      <td>76000</td>\n",
       "      <td>0</td>\n",
       "    </tr>\n",
       "  </tbody>\n",
       "</table>\n",
       "</div>"
      ],
      "text/plain": [
       "    User ID  Gender  Age  EstimatedSalary  Purchased\n",
       "0  15624510    Male   19            19000          0\n",
       "1  15810944    Male   35            20000          0\n",
       "2  15668575  Female   26            43000          0\n",
       "3  15603246  Female   27            57000          0\n",
       "4  15804002    Male   19            76000          0"
      ]
     },
     "execution_count": 2,
     "metadata": {},
     "output_type": "execute_result"
    }
   ],
   "source": [
    "df=pd.read_excel('C:/Users/Shubham/Desktop/Suv_dataset.xlsx')\n",
    "df.head()"
   ]
  },
  {
   "cell_type": "code",
   "execution_count": null,
   "id": "ca1175d3",
   "metadata": {},
   "outputs": [],
   "source": []
  },
  {
   "cell_type": "code",
   "execution_count": 3,
   "id": "109bc5a5",
   "metadata": {},
   "outputs": [
    {
     "data": {
      "text/plain": [
       "(400, 5)"
      ]
     },
     "execution_count": 3,
     "metadata": {},
     "output_type": "execute_result"
    }
   ],
   "source": [
    "df.shape"
   ]
  },
  {
   "cell_type": "code",
   "execution_count": 4,
   "id": "aac01ac1",
   "metadata": {},
   "outputs": [
    {
     "data": {
      "text/plain": [
       "User ID            0\n",
       "Gender             0\n",
       "Age                0\n",
       "EstimatedSalary    0\n",
       "Purchased          0\n",
       "dtype: int64"
      ]
     },
     "execution_count": 4,
     "metadata": {},
     "output_type": "execute_result"
    }
   ],
   "source": [
    "df.isnull().sum()"
   ]
  },
  {
   "cell_type": "code",
   "execution_count": 5,
   "id": "3187e60e",
   "metadata": {},
   "outputs": [
    {
     "data": {
      "text/plain": [
       "0      0\n",
       "1      0\n",
       "2      0\n",
       "3      0\n",
       "4      0\n",
       "      ..\n",
       "395    1\n",
       "396    1\n",
       "397    1\n",
       "398    0\n",
       "399    1\n",
       "Name: Purchased, Length: 400, dtype: int64"
      ]
     },
     "execution_count": 5,
     "metadata": {},
     "output_type": "execute_result"
    }
   ],
   "source": [
    "df[\"Purchased\"]"
   ]
  },
  {
   "cell_type": "code",
   "execution_count": 6,
   "id": "b68ec5b4",
   "metadata": {},
   "outputs": [
    {
     "data": {
      "image/png": "[encoded data removed]",
      "text/plain": [
       "<Figure size 432x288 with 1 Axes>"
      ]
     },
     "metadata": {
      "needs_background": "light"
     },
     "output_type": "display_data"
    }
   ],
   "source": [
    "plt.scatter(x=\"Age\", y=\"EstimatedSalary\", data=df)\n",
    "plt.title(\"Multicolinearity Check: Age and Salary\")\n",
    "plt.show()\n"
   ]
  },
  {
   "cell_type": "code",
   "execution_count": 62,
   "id": "84ec5348",
   "metadata": {},
   "outputs": [],
   "source": [
    "#split the independent and dependent \n",
    "x=df.iloc[:,[2,3]]\n",
    "y=df.iloc[:,4]"
   ]
  },
  {
   "cell_type": "code",
   "execution_count": 63,
   "id": "d94bee86",
   "metadata": {},
   "outputs": [],
   "source": [
    "# \n",
    "from sklearn.model_selection import train_test_split"
   ]
  },
  {
   "cell_type": "code",
   "execution_count": 64,
   "id": "05072b1a",
   "metadata": {},
   "outputs": [],
   "source": [
    "X_train, X_test, y_train, y_test = train_test_split(x, y, test_size=0.25, random_state=1)"
   ]
  },
  {
   "cell_type": "code",
   "execution_count": 65,
   "id": "efb50ddc",
   "metadata": {},
   "outputs": [
    {
     "data": {
      "text/plain": [
       "(300, 2)"
      ]
     },
     "execution_count": 65,
     "metadata": {},
     "output_type": "execute_result"
    }
   ],
   "source": [
    "X_train.shape"
   ]
  },
  {
   "cell_type": "code",
   "execution_count": 66,
   "id": "20c2460a",
   "metadata": {},
   "outputs": [
    {
     "data": {
      "text/plain": [
       "(100, 2)"
      ]
     },
     "execution_count": 66,
     "metadata": {},
     "output_type": "execute_result"
    }
   ],
   "source": [
    "X_test.shape"
   ]
  },
  {
   "cell_type": "code",
   "execution_count": 67,
   "id": "29611c25",
   "metadata": {},
   "outputs": [
    {
     "data": {
      "text/plain": [
       "(300,)"
      ]
     },
     "execution_count": 67,
     "metadata": {},
     "output_type": "execute_result"
    }
   ],
   "source": [
    "y_train.shape"
   ]
  },
  {
   "cell_type": "code",
   "execution_count": 68,
   "id": "cd277537",
   "metadata": {},
   "outputs": [
    {
     "data": {
      "text/plain": [
       "(100,)"
      ]
     },
     "execution_count": 68,
     "metadata": {},
     "output_type": "execute_result"
    }
   ],
   "source": [
    "y_test.shape"
   ]
  },
  {
   "cell_type": "code",
   "execution_count": 69,
   "id": "5d3291a0",
   "metadata": {},
   "outputs": [
    {
     "name": "stdout",
     "output_type": "stream",
     "text": [
      "     Age  EstimatedSalary\n",
      "82    20            49000\n",
      "367   46            88000\n",
      "179   31            34000\n",
      "27    47            30000\n",
      "89    35            50000\n",
      "..   ...              ...\n",
      "255   52            90000\n",
      "72    20            23000\n",
      "396   51            23000\n",
      "235   46            79000\n",
      "37    30            49000\n",
      "\n",
      "[300 rows x 2 columns]\n"
     ]
    }
   ],
   "source": [
    "print(X_train)"
   ]
  },
  {
   "cell_type": "code",
   "execution_count": 70,
   "id": "c4a8925f",
   "metadata": {},
   "outputs": [],
   "source": [
    "from sklearn.preprocessing import StandardScaler"
   ]
  },
  {
   "cell_type": "code",
   "execution_count": 71,
   "id": "60a44b8e",
   "metadata": {},
   "outputs": [],
   "source": [
    "# Scale the data\n",
    "sc = StandardScaler()\n",
    "X_train = sc.fit_transform(X_train)\n",
    "X_test = sc.transform(X_test)"
   ]
  },
  {
   "cell_type": "code",
   "execution_count": 72,
   "id": "d834a6d5",
   "metadata": {},
   "outputs": [
    {
     "data": {
      "text/plain": [
       "array([[-1.68062015e+00, -5.92416706e-01],\n",
       "       [ 8.69241193e-01,  5.63566526e-01],\n",
       "       [-6.01832657e-01, -1.03702564e+00],\n",
       "       [ 9.67312783e-01, -1.15558802e+00],\n",
       "       [-2.09546297e-01, -5.62776110e-01],\n",
       "       [ 1.82740063e-01,  8.00691292e-01],\n",
       "       [-4.05689477e-01,  1.30458142e+00],\n",
       "       [ 1.16345596e+00,  5.04285335e-01],\n",
       "       [ 7.71169603e-01,  2.96801165e-01],\n",
       "       [ 6.73098013e-01, -8.88822663e-01],\n",
       "       [ 3.78883243e-01, -2.96010749e-01],\n",
       "       [ 4.76954833e-01, -4.73854323e-01],\n",
       "       [-2.09546297e-01,  1.18957591e-01],\n",
       "       [ 3.78883243e-01,  8.93169951e-02],\n",
       "       [-9.94119017e-01,  8.00691292e-01],\n",
       "       [-6.99904247e-01,  1.39350321e+00],\n",
       "       [ 3.78883243e-01, -5.03494919e-01],\n",
       "       [ 3.78883243e-01, -5.03494919e-01],\n",
       "       [-1.68062015e+00,  3.85722952e-01],\n",
       "       [ 8.69241193e-01, -8.29541472e-01],\n",
       "       [-9.94119017e-01, -1.12594743e+00],\n",
       "       [-2.09546297e-01,  5.96763994e-02],\n",
       "       [ 1.16345596e+00, -1.21486922e+00],\n",
       "       [-2.09546297e-01,  6.52488313e-01],\n",
       "       [-1.34031173e-02,  1.78238782e-01],\n",
       "       [-5.03761067e-01,  1.42314380e+00],\n",
       "       [-1.11474707e-01,  1.78238782e-01],\n",
       "       [-1.68062015e+00,  5.04285335e-01],\n",
       "       [ 8.46684727e-02, -5.62776110e-01],\n",
       "       [ 1.16345596e+00, -9.77744450e-01],\n",
       "       [ 2.80811653e-01, -1.18167175e-01],\n",
       "       [-1.34031173e-02,  2.37519974e-01],\n",
       "       [ 2.24224345e+00, -6.81338493e-01],\n",
       "       [ 1.06538437e+00,  2.04559631e+00],\n",
       "       [ 2.80811653e-01,  5.96763994e-02],\n",
       "       [-1.11474707e-01, -1.77448366e-01],\n",
       "       [-1.09219061e+00,  3.56082356e-01],\n",
       "       [-4.05689477e-01, -1.12594743e+00],\n",
       "       [ 3.78883243e-01, -5.33135515e-01],\n",
       "       [ 8.69241193e-01,  1.48598186e-01],\n",
       "       [-1.87676333e+00,  3.85722952e-01],\n",
       "       [-1.34031173e-02, -1.06666624e+00],\n",
       "       [-2.09546297e-01, -4.73854323e-01],\n",
       "       [-8.96047427e-01, -2.96010749e-01],\n",
       "       [-1.34031173e-02,  5.96763994e-02],\n",
       "       [-1.87676333e+00, -7.40619685e-01],\n",
       "       [ 8.46684727e-02, -2.36729558e-01],\n",
       "       [-2.09546297e-01, -1.18167175e-01],\n",
       "       [-6.01832657e-01, -8.85265792e-02],\n",
       "       [ 9.67312783e-01, -1.30379100e+00],\n",
       "       [ 4.76954833e-01,  1.03781606e+00],\n",
       "       [-1.77869174e+00, -1.48163458e+00],\n",
       "       [-1.58254856e+00,  8.93169951e-02],\n",
       "       [-8.96047427e-01, -1.09630683e+00],\n",
       "       [ 1.45767073e+00,  2.40128346e+00],\n",
       "       [ 1.55574232e+00,  1.03781606e+00],\n",
       "       [-1.19026220e+00,  3.26441761e-01],\n",
       "       [-1.09219061e+00,  8.93169951e-02],\n",
       "       [-1.09219061e+00, -1.60019696e+00],\n",
       "       [ 2.80811653e-01,  2.16415869e+00],\n",
       "       [-2.09546297e-01, -9.18463259e-01],\n",
       "       [ 1.94802868e+00,  1.57134678e+00],\n",
       "       [ 3.78883243e-01,  5.33925931e-01],\n",
       "       [-1.28833379e+00,  5.93207122e-01],\n",
       "       [-1.34031173e-02, -5.03494919e-01],\n",
       "       [-2.09546297e-01,  1.15637844e+00],\n",
       "       [-5.03761067e-01,  9.19253675e-01],\n",
       "       [-2.09546297e-01,  2.31236167e+00],\n",
       "       [-1.77869174e+00, -1.27415041e+00],\n",
       "       [ 8.69241193e-01,  3.85722952e-01],\n",
       "       [ 9.67312783e-01,  1.06745665e+00],\n",
       "       [ 7.71169603e-01, -7.10979089e-01],\n",
       "       [ 8.46684727e-02, -5.33135515e-01],\n",
       "       [-1.34031173e-02,  7.11769505e-01],\n",
       "       [-7.97975837e-01, -7.70260280e-01],\n",
       "       [ 3.78883243e-01, -1.15558802e+00],\n",
       "       [ 2.80811653e-01, -2.66370153e-01],\n",
       "       [-9.94119017e-01,  5.63566526e-01],\n",
       "       [-9.94119017e-01,  6.22847718e-01],\n",
       "       [ 1.82740063e-01,  5.96763994e-02],\n",
       "       [-1.38640538e+00, -1.21486922e+00],\n",
       "       [ 1.35959914e+00,  2.28272108e+00],\n",
       "       [-1.38640538e+00, -1.77448366e-01],\n",
       "       [-1.34031173e-02,  3.26441761e-01],\n",
       "       [ 2.80811653e-01, -6.51697898e-01],\n",
       "       [ 1.06538437e+00, -1.18522862e+00],\n",
       "       [-2.09546297e-01, -2.96010749e-01],\n",
       "       [-1.09219061e+00, -1.15558802e+00],\n",
       "       [ 1.82740063e-01,  1.09709725e+00],\n",
       "       [-8.96047427e-01,  4.45004144e-01],\n",
       "       [ 2.14417186e+00,  2.07879378e-01],\n",
       "       [ 2.80811653e-01, -3.55291941e-01],\n",
       "       [-2.09546297e-01,  8.30331888e-01],\n",
       "       [-1.09219061e+00,  5.04285335e-01],\n",
       "       [ 3.78883243e-01, -1.77448366e-01],\n",
       "       [-7.97975837e-01, -6.51697898e-01],\n",
       "       [-1.09219061e+00, -1.54091577e+00],\n",
       "       [ 2.04610027e+00, -1.36307219e+00],\n",
       "       [-6.99904247e-01, -2.07088962e-01],\n",
       "       [-1.19026220e+00, -1.06666624e+00],\n",
       "       [ 2.14417186e+00, -1.18522862e+00],\n",
       "       [-8.96047427e-01, -9.48103855e-01],\n",
       "       [ 1.82740063e-01,  2.37519974e-01],\n",
       "       [ 9.67312783e-01,  1.12673784e+00],\n",
       "       [ 1.45767073e+00,  2.04559631e+00],\n",
       "       [-7.97975837e-01, -7.70260280e-01],\n",
       "       [-9.94119017e-01,  2.01595572e+00],\n",
       "       [-1.28833379e+00, -4.14573132e-01],\n",
       "       [ 2.80811653e-01,  8.93169951e-02],\n",
       "       [-1.58254856e+00, -1.57055636e+00],\n",
       "       [ 1.94802868e+00, -1.27415041e+00],\n",
       "       [-6.99904247e-01,  1.95667452e+00],\n",
       "       [ 1.06538437e+00,  1.48242499e+00],\n",
       "       [ 2.80811653e-01, -3.55291941e-01],\n",
       "       [-2.09546297e-01,  1.78238782e-01],\n",
       "       [-8.96047427e-01, -7.40619685e-01],\n",
       "       [-1.34031173e-02,  1.48598186e-01],\n",
       "       [-2.09546297e-01, -1.24450981e+00],\n",
       "       [-1.34031173e-02,  2.96801165e-01],\n",
       "       [-5.03761067e-01,  1.51206559e+00],\n",
       "       [-7.97975837e-01,  1.78238782e-01],\n",
       "       [-6.99904247e-01, -1.54091577e+00],\n",
       "       [-1.19026220e+00,  2.96801165e-01],\n",
       "       [ 2.80811653e-01,  1.12673784e+00],\n",
       "       [-1.28833379e+00, -1.48163458e+00],\n",
       "       [ 3.78883243e-01,  8.93169951e-02],\n",
       "       [ 8.46684727e-02, -2.36729558e-01],\n",
       "       [-1.11474707e-01,  2.22343989e+00],\n",
       "       [ 4.76954833e-01, -1.47807771e-01],\n",
       "       [ 1.06538437e+00, -1.06666624e+00],\n",
       "       [ 1.06538437e+00, -1.15558802e+00],\n",
       "       [-1.38640538e+00, -1.45199398e+00],\n",
       "       [ 1.75188550e+00,  1.80847155e+00],\n",
       "       [-7.97975837e-01,  2.34200227e+00],\n",
       "       [ 4.76954833e-01, -1.18167175e-01],\n",
       "       [-9.94119017e-01, -4.44213728e-01],\n",
       "       [-1.34031173e-02, -4.14573132e-01],\n",
       "       [-1.19026220e+00, -1.39271279e+00],\n",
       "       [ 2.14417186e+00,  2.19379929e+00],\n",
       "       [ 4.76954833e-01, -4.44213728e-01],\n",
       "       [-9.94119017e-01, -1.54091577e+00],\n",
       "       [ 9.67312783e-01, -5.92416706e-01],\n",
       "       [-8.96047427e-01, -2.96010749e-01],\n",
       "       [-4.05689477e-01,  3.95207943e-04],\n",
       "       [-6.01832657e-01, -2.92453878e-02],\n",
       "       [-2.09546297e-01, -1.36307219e+00],\n",
       "       [-2.09546297e-01, -1.39271279e+00],\n",
       "       [ 1.94802868e+00, -1.06666624e+00],\n",
       "       [-6.99904247e-01,  1.12673784e+00],\n",
       "       [ 8.69241193e-01, -1.36307219e+00],\n",
       "       [ 3.78883243e-01, -2.66370153e-01],\n",
       "       [-4.05689477e-01, -8.29541472e-01],\n",
       "       [-4.05689477e-01, -2.66370153e-01],\n",
       "       [ 9.67312783e-01, -6.51697898e-01],\n",
       "       [-8.96047427e-01, -4.14573132e-01],\n",
       "       [ 7.71169603e-01, -1.09630683e+00],\n",
       "       [-2.09546297e-01,  1.78238782e-01],\n",
       "       [ 2.14417186e+00, -7.99900876e-01],\n",
       "       [ 9.67312783e-01, -5.62776110e-01],\n",
       "       [ 9.67312783e-01, -5.33135515e-01],\n",
       "       [-2.09546297e-01,  2.96801165e-01],\n",
       "       [ 1.82740063e-01, -7.99900876e-01],\n",
       "       [ 2.80811653e-01,  2.67160569e-01],\n",
       "       [-1.38640538e+00, -6.22057302e-01],\n",
       "       [ 1.82740063e-01,  1.78238782e-01],\n",
       "       [-2.09546297e-01, -3.55291941e-01],\n",
       "       [ 1.75188550e+00, -8.88822663e-01],\n",
       "       [-6.01832657e-01,  5.96763994e-02],\n",
       "       [-8.96047427e-01,  1.60098738e+00],\n",
       "       [ 4.76954833e-01,  3.26441761e-01],\n",
       "       [ 2.80811653e-01, -2.96010749e-01],\n",
       "       [ 1.06538437e+00,  1.48598186e-01],\n",
       "       [-1.58254856e+00,  5.63566526e-01],\n",
       "       [ 1.55574232e+00,  8.93169951e-02],\n",
       "       [-9.94119017e-01, -3.25651345e-01],\n",
       "       [-2.09546297e-01, -6.51697898e-01],\n",
       "       [-8.96047427e-01,  5.93207122e-01],\n",
       "       [-1.09219061e+00,  3.26441761e-01],\n",
       "       [-5.03761067e-01,  1.42314380e+00],\n",
       "       [ 4.76954833e-01,  1.78238782e-01],\n",
       "       [-4.05689477e-01,  2.37164286e+00],\n",
       "       [ 3.78883243e-01,  3.26441761e-01],\n",
       "       [-6.01832657e-01, -3.25651345e-01],\n",
       "       [ 1.82740063e-01,  1.92703393e+00],\n",
       "       [-9.94119017e-01, -1.45199398e+00],\n",
       "       [-7.97975837e-01,  4.15363548e-01],\n",
       "       [-1.77869174e+00,  3.00358036e-02],\n",
       "       [-1.77869174e+00,  4.74644739e-01],\n",
       "       [-7.97975837e-01, -2.36729558e-01],\n",
       "       [ 1.82740063e-01,  1.92703393e+00],\n",
       "       [-6.01832657e-01,  2.07879378e-01],\n",
       "       [ 3.78883243e-01,  8.93169951e-02],\n",
       "       [-1.09219061e+00,  3.26441761e-01],\n",
       "       [ 2.80811653e-01, -2.36729558e-01],\n",
       "       [-2.09546297e-01, -1.30379100e+00],\n",
       "       [ 1.06538437e+00,  8.00691292e-01],\n",
       "       [ 4.76954833e-01,  2.37164286e+00],\n",
       "       [-8.96047427e-01,  2.96801165e-01],\n",
       "       [ 1.35959914e+00,  1.92703393e+00],\n",
       "       [-4.05689477e-01, -1.21486922e+00],\n",
       "       [ 4.76954833e-01, -4.44213728e-01],\n",
       "       [ 7.71169603e-01, -1.39271279e+00],\n",
       "       [-1.34031173e-02, -3.55291941e-01],\n",
       "       [-3.07617887e-01,  1.27494082e+00],\n",
       "       [-2.09546297e-01, -8.88822663e-01],\n",
       "       [-1.48447697e+00, -1.24450981e+00],\n",
       "       [-2.09546297e-01,  8.93169951e-02],\n",
       "       [ 1.82740063e-01, -2.96010749e-01],\n",
       "       [-1.68062015e+00,  1.48598186e-01],\n",
       "       [ 8.69241193e-01, -1.09630683e+00],\n",
       "       [-1.09219061e+00, -7.70260280e-01],\n",
       "       [-7.97975837e-01,  4.15363548e-01],\n",
       "       [ 1.75188550e+00,  1.66026857e+00],\n",
       "       [-1.34031173e-02,  2.28272108e+00],\n",
       "       [ 7.71169603e-01,  1.83811214e+00],\n",
       "       [-4.05689477e-01, -7.70260280e-01],\n",
       "       [ 3.78883243e-01, -7.10979089e-01],\n",
       "       [ 4.76954833e-01,  2.96801165e-01],\n",
       "       [-1.34031173e-02,  2.01595572e+00],\n",
       "       [-1.28833379e+00,  4.45004144e-01],\n",
       "       [-5.03761067e-01, -1.51127517e+00],\n",
       "       [ 1.84995709e+00,  1.03781606e+00],\n",
       "       [ 1.16345596e+00, -8.88822663e-01],\n",
       "       [-8.96047427e-01,  4.74644739e-01],\n",
       "       [ 1.55574232e+00,  2.19379929e+00],\n",
       "       [-6.99904247e-01,  5.93207122e-01],\n",
       "       [ 1.94802868e+00, -2.66370153e-01],\n",
       "       [ 2.80811653e-01,  1.78238782e-01],\n",
       "       [ 3.78883243e-01,  2.96801165e-01],\n",
       "       [-1.68062015e+00,  3.85722952e-01],\n",
       "       [-1.48447697e+00, -4.14573132e-01],\n",
       "       [-2.09546297e-01,  5.63566526e-01],\n",
       "       [ 1.65381391e+00,  3.00358036e-02],\n",
       "       [-6.01832657e-01, -1.60019696e+00],\n",
       "       [ 1.26152755e+00, -9.77744450e-01],\n",
       "       [ 4.76954833e-01, -1.18167175e-01],\n",
       "       [-3.07617887e-01, -7.70260280e-01],\n",
       "       [ 4.76954833e-01,  1.15637844e+00],\n",
       "       [ 1.65381391e+00, -1.27415041e+00],\n",
       "       [-1.77869174e+00, -1.42235339e+00],\n",
       "       [-1.11474707e-01, -5.62776110e-01],\n",
       "       [-1.34031173e-02,  3.00358036e-02],\n",
       "       [-1.11474707e-01,  1.68990916e+00],\n",
       "       [ 9.67312783e-01, -1.45199398e+00],\n",
       "       [-6.99904247e-01,  2.96801165e-01],\n",
       "       [ 2.14417186e+00,  4.15363548e-01],\n",
       "       [-7.97975837e-01,  3.26441761e-01],\n",
       "       [ 5.75026423e-01,  1.27494082e+00],\n",
       "       [ 8.46684727e-02,  3.26441761e-01],\n",
       "       [ 2.04610027e+00,  2.22343989e+00],\n",
       "       [-1.11474707e-01,  1.66026857e+00],\n",
       "       [ 1.16345596e+00, -1.21486922e+00],\n",
       "       [-1.87676333e+00, -5.03494919e-01],\n",
       "       [-6.99904247e-01, -1.60019696e+00],\n",
       "       [ 2.14417186e+00,  5.63566526e-01],\n",
       "       [-9.94119017e-01, -3.55291941e-01],\n",
       "       [ 8.46684727e-02,  5.96763994e-02],\n",
       "       [-6.01832657e-01,  5.93207122e-01],\n",
       "       [ 9.67312783e-01, -1.03702564e+00],\n",
       "       [-6.01832657e-01,  1.48598186e-01],\n",
       "       [-1.34031173e-02,  8.93169951e-02],\n",
       "       [ 2.80811653e-01, -3.55291941e-01],\n",
       "       [ 2.14417186e+00,  1.80847155e+00],\n",
       "       [ 1.16345596e+00, -1.18167175e-01],\n",
       "       [ 1.06538437e+00,  6.22847718e-01],\n",
       "       [ 8.69241193e-01, -1.39271279e+00],\n",
       "       [ 1.65381391e+00,  1.03781606e+00],\n",
       "       [-2.09546297e-01, -1.45199398e+00],\n",
       "       [ 1.16345596e+00,  2.13451810e+00],\n",
       "       [ 1.06538437e+00, -8.29541472e-01],\n",
       "       [-2.09546297e-01, -4.14573132e-01],\n",
       "       [-1.11474707e-01, -2.66370153e-01],\n",
       "       [-5.03761067e-01,  2.40128346e+00],\n",
       "       [-1.87676333e+00, -2.92453878e-02],\n",
       "       [-1.28833379e+00, -4.14573132e-01],\n",
       "       [ 4.76954833e-01,  6.22847718e-01],\n",
       "       [ 8.46684727e-02, -2.96010749e-01],\n",
       "       [ 2.24224345e+00,  1.15637844e+00],\n",
       "       [-1.48447697e+00, -1.77448366e-01],\n",
       "       [-1.28833379e+00, -1.09630683e+00],\n",
       "       [ 8.69241193e-01, -2.96010749e-01],\n",
       "       [ 1.06538437e+00,  1.92703393e+00],\n",
       "       [ 3.78883243e-01,  8.93169951e-02],\n",
       "       [ 1.26152755e+00, -7.40619685e-01],\n",
       "       [ 8.46684727e-02,  5.96763994e-02],\n",
       "       [-1.28833379e+00, -1.36307219e+00],\n",
       "       [-2.09546297e-01, -2.36729558e-01],\n",
       "       [-1.34031173e-02,  3.26441761e-01],\n",
       "       [-1.28833379e+00, -1.24450981e+00],\n",
       "       [-1.09219061e+00,  4.45004144e-01],\n",
       "       [-3.07617887e-01, -1.30379100e+00],\n",
       "       [-1.11474707e-01, -4.44213728e-01],\n",
       "       [-1.58254856e+00, -2.92453878e-02],\n",
       "       [ 3.78883243e-01,  5.96763994e-02],\n",
       "       [ 2.24224345e+00, -7.99900876e-01],\n",
       "       [ 1.45767073e+00,  6.22847718e-01],\n",
       "       [-1.68062015e+00, -1.36307219e+00],\n",
       "       [ 1.35959914e+00, -1.36307219e+00],\n",
       "       [ 8.69241193e-01,  2.96801165e-01],\n",
       "       [-6.99904247e-01, -5.92416706e-01]])"
      ]
     },
     "execution_count": 72,
     "metadata": {},
     "output_type": "execute_result"
    }
   ],
   "source": [
    "X_train"
   ]
  },
  {
   "cell_type": "code",
   "execution_count": 73,
   "id": "307a1ba4",
   "metadata": {},
   "outputs": [],
   "source": [
    "from sklearn.linear_model import LogisticRegression"
   ]
  },
  {
   "cell_type": "code",
   "execution_count": 74,
   "id": "a10876b2",
   "metadata": {},
   "outputs": [
    {
     "data": {
      "text/plain": [
       "LogisticRegression()"
      ]
     },
     "execution_count": 74,
     "metadata": {},
     "output_type": "execute_result"
    }
   ],
   "source": [
    "# Fit the model\n",
    "model = LogisticRegression()\n",
    "model.fit(X_train, y_train)"
   ]
  },
  {
   "cell_type": "code",
   "execution_count": 75,
   "id": "db40bbbe",
   "metadata": {},
   "outputs": [],
   "source": [
    "train_y_pred=model.predict(X_train)"
   ]
  },
  {
   "cell_type": "code",
   "execution_count": 76,
   "id": "adbd9e9a",
   "metadata": {},
   "outputs": [],
   "source": [
    "test_y_pred=model.predict(X_test)"
   ]
  },
  {
   "cell_type": "code",
   "execution_count": 77,
   "id": "1405f7c9",
   "metadata": {},
   "outputs": [],
   "source": [
    "from sklearn.metrics import accuracy_score"
   ]
  },
  {
   "cell_type": "code",
   "execution_count": 78,
   "id": "7f4f25af",
   "metadata": {},
   "outputs": [
    {
     "name": "stdout",
     "output_type": "stream",
     "text": [
      "train accuracy: 0.8433333333333334\n"
     ]
    }
   ],
   "source": [
    "print(\"train accuracy:\",accuracy_score(train_y_pred,y_train,))"
   ]
  },
  {
   "cell_type": "code",
   "execution_count": 79,
   "id": "536543ce",
   "metadata": {},
   "outputs": [
    {
     "name": "stdout",
     "output_type": "stream",
     "text": [
      "test accuracy: 0.83\n"
     ]
    }
   ],
   "source": [
    "print(\"test accuracy:\",accuracy_score(test_y_pred,y_test))"
   ]
  },
  {
   "cell_type": "code",
   "execution_count": 80,
   "id": "d9d2466e",
   "metadata": {},
   "outputs": [],
   "source": [
    "from sklearn.metrics import confusion_matrix\n",
    "cf = confusion_matrix(y_test,test_y_pred)"
   ]
  },
  {
   "cell_type": "code",
   "execution_count": 81,
   "id": "b7a7e2d2",
   "metadata": {},
   "outputs": [
    {
     "data": {
      "text/plain": [
       "array([[52,  6],\n",
       "       [11, 31]], dtype=int64)"
      ]
     },
     "execution_count": 81,
     "metadata": {},
     "output_type": "execute_result"
    }
   ],
   "source": [
    "cf"
   ]
  },
  {
   "cell_type": "code",
   "execution_count": null,
   "id": "e3ee7871",
   "metadata": {},
   "outputs": [],
   "source": []
  },
  {
   "cell_type": "code",
   "execution_count": 82,
   "id": "1e70fac2",
   "metadata": {},
   "outputs": [
    {
     "data": {
      "text/plain": [
       "<AxesSubplot:>"
      ]
     },
     "execution_count": 82,
     "metadata": {},
     "output_type": "execute_result"
    },
    {
     "data": {
      "image/png": "[encoded data removed]",
      "text/plain": [
       "<Figure size 432x288 with 2 Axes>"
      ]
     },
     "metadata": {
      "needs_background": "light"
     },
     "output_type": "display_data"
    }
   ],
   "source": [
    "import seaborn as sns\n",
    "sns.heatmap(cf,annot=True)"
   ]
  },
  {
   "cell_type": "code",
   "execution_count": 83,
   "id": "32fcb847",
   "metadata": {},
   "outputs": [
    {
     "ename": "TypeError",
     "evalue": "scatter() missing 1 required positional argument: 'y'",
     "output_type": "error",
     "traceback": [
      "\u001b[1;31m---------------------------------------------------------------------------\u001b[0m",
      "\u001b[1;31mTypeError\u001b[0m                                 Traceback (most recent call last)",
      "Input \u001b[1;32mIn [83]\u001b[0m, in \u001b[0;36m<cell line: 1>\u001b[1;34m()\u001b[0m\n\u001b[1;32m----> 1\u001b[0m \u001b[43mplt\u001b[49m\u001b[38;5;241;43m.\u001b[39;49m\u001b[43mscatter\u001b[49m\u001b[43m(\u001b[49m\u001b[43my_train\u001b[49m\u001b[43m,\u001b[49m\u001b[43m)\u001b[49m\n\u001b[0;32m      2\u001b[0m plt\u001b[38;5;241m.\u001b[39mxlabel\n\u001b[0;32m      3\u001b[0m plt\u001b[38;5;241m.\u001b[39mylabel\n",
      "\u001b[1;31mTypeError\u001b[0m: scatter() missing 1 required positional argument: 'y'"
     ]
    }
   ],
   "source": [
    "plt.scatter(y_train,)\n",
    "plt.xlabel\n",
    "plt.ylabel\n",
    "plt.show()"
   ]
  },
  {
   "cell_type": "code",
   "execution_count": null,
   "id": "d1e514d0",
   "metadata": {},
   "outputs": [],
   "source": []
  }
 ],
 "metadata": {
  "kernelspec": {
   "display_name": "Python 3 (ipykernel)",
   "language": "python",
   "name": "python3"
  },
  "language_info": {
   "codemirror_mode": {
    "name": "ipython",
    "version": 3
   },
   "file_extension": ".py",
   "mimetype": "text/x-python",
   "name": "python",
   "nbconvert_exporter": "python",
   "pygments_lexer": "ipython3",
   "version": "3.9.12"
  }
 },
 "nbformat": 4,
 "nbformat_minor": 5
}
